{
 "cells": [
  {
   "cell_type": "markdown",
   "id": "ff26c20b",
   "metadata": {},
   "source": [
    "# Exploratory Data Analysis (EDA)"
   ]
  },
  {
   "cell_type": "code",
   "execution_count": null,
   "id": "2f306d9a",
   "metadata": {},
   "outputs": [],
   "source": [
    "\n",
    "import pandas as pd\n",
    "import matplotlib.pyplot as plt\n",
    "from sklearn.preprocessing import StandardScaler\n",
    "from sklearn.metrics.pairwise import cosine_similarity\n",
    "\n",
    "customers_df = pd.read_csv('Customers.csv')\n",
    "products_df = pd.read_csv('Products.csv')\n",
    "transactions_df = pd.read_csv('Transactions.csv')\n",
    "\n",
    "customers_df['SignupDate'] = pd.to_datetime(customers_df['SignupDate'])\n",
    "transactions_df['TransactionDate'] = pd.to_datetime(transactions_df['TransactionDate'])\n",
    "\n",
    "\n",
    "region_counts = customers_df['Region'].value_counts()\n",
    "\n",
    "category_counts = products_df['Category'].value_counts()\n",
    "\n",
    "transactions_df['TransactionMonth'] = transactions_df['TransactionDate'].dt.to_period('M')\n",
    "monthly_transactions = transactions_df.groupby('TransactionMonth')['TotalValue'].sum()\n",
    "\n",
    "product_revenue = transactions_df.groupby('ProductID')['TotalValue'].sum().sort_values(ascending=False).head(10)\n",
    "\n",
    "customer_revenue = transactions_df.groupby('CustomerID')['TotalValue'].sum().sort_values(ascending=False).head(10)\n",
    "\n",
    "plt.figure(figsize=(16, 10))\n",
    "\n",
    "plt.subplot(2, 2, 1)\n",
    "region_counts.plot(kind='bar', color='skyblue')\n",
    "plt.title('Number of Customers by Region')\n",
    "plt.xlabel('Region')\n",
    "plt.ylabel('Count')\n",
    "\n",
    "plt.subplot(2, 2, 2)\n",
    "category_counts.plot(kind='bar', color='orange')\n",
    "plt.title('Number of Products by Category')\n",
    "plt.xlabel('Category')\n",
    "plt.ylabel('Count')\n",
    "\n",
    "plt.subplot(2, 2, 3)\n",
    "monthly_transactions.plot(kind='line', marker='o', color='green')\n",
    "plt.title('Monthly Transaction Revenue')\n",
    "plt.xlabel('Month')\n",
    "plt.ylabel('Total Revenue (USD)')\n",
    "\n",
    "plt.subplot(2, 2, 4)\n",
    "product_revenue.plot(kind='bar', color='purple')\n",
    "plt.title('Top 10 Products by Revenue')\n",
    "plt.xlabel('ProductID')\n",
    "plt.ylabel('Total Revenue (USD)')\n",
    "\n",
    "plt.tight_layout()\n",
    "plt.show()\n",
    "    "
   ]
  }
 ],
 "metadata": {
  "language_info": {
   "name": "python"
  }
 },
 "nbformat": 4,
 "nbformat_minor": 5
}
