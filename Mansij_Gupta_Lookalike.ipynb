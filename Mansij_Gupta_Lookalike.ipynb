{
 "cells": [
  {
   "cell_type": "markdown",
   "id": "6e0fa44a",
   "metadata": {},
   "source": [
    "# Lookalike Model"
   ]
  },
  {
   "cell_type": "code",
   "execution_count": null,
   "id": "a128617b",
   "metadata": {},
   "outputs": [],
   "source": [
    "\n",
    "import pandas as pd\n",
    "from sklearn.preprocessing import StandardScaler\n",
    "from sklearn.metrics.pairwise import cosine_similarity\n",
    "\n",
    "customers_df = pd.read_csv('Customers.csv')\n",
    "transactions_df = pd.read_csv('Transactions.csv')\n",
    "\n",
    "merged_df = pd.merge(transactions_df, customers_df, on='CustomerID')\n",
    "\n",
    "customer_features = merged_df.groupby('CustomerID').agg(\n",
    "    total_spending=('TotalValue', 'sum'),\n",
    "    avg_spending=('TotalValue', 'mean'),\n",
    "    purchase_count=('TransactionID', 'count'),\n",
    "    product_variety=('ProductID', 'nunique')\n",
    ").reset_index()\n",
    "\n",
    "region_dummies = pd.get_dummies(customers_df.set_index('CustomerID')['Region'], prefix='region')\n",
    "customer_features = customer_features.merge(region_dummies, left_on='CustomerID', right_index=True)\n",
    "\n",
    "scaler = StandardScaler()\n",
    "normalized_features = scaler.fit_transform(customer_features.drop(columns='CustomerID'))\n",
    "\n",
    "similarity_matrix = cosine_similarity(normalized_features)\n",
    "\n",
    "customer_ids = customer_features['CustomerID'].tolist()\n",
    "lookalikes = {}\n",
    "\n",
    "for i, cust_id in enumerate(customer_ids[:20]):\n",
    "    sim_scores = list(enumerate(similarity_matrix[i]))\n",
    "    top_similar = sorted(sim_scores, key=lambda x: x[1], reverse=True)[1:4]\n",
    "    lookalikes[cust_id] = [(customer_ids[j], round(score, 4)) for j, score in top_similar]\n",
    "\n",
    "\n",
    "lookalike_df = pd.DataFrame([{'cust_id': k, 'lookalikes': v} for k, v in lookalikes.items()])\n",
    "lookalike_df.to_csv('Lookalike.csv', index=False)\n",
    "    "
   ]
  }
 ],
 "metadata": {
  "language_info": {
   "name": "python"
  }
 },
 "nbformat": 4,
 "nbformat_minor": 5
}
